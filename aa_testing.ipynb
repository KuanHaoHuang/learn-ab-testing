{
  "nbformat": 4,
  "nbformat_minor": 0,
  "metadata": {
    "colab": {
      "name": "aa_testing.ipynb",
      "provenance": []
    },
    "kernelspec": {
      "name": "python3",
      "display_name": "Python 3"
    },
    "language_info": {
      "name": "python"
    }
  },
  "cells": [
    {
      "cell_type": "markdown",
      "metadata": {
        "id": "rk0GZ6h_n2Bf"
      },
      "source": [
        "# 1. Sample Ratio Mismatch"
      ]
    },
    {
      "cell_type": "markdown",
      "metadata": {
        "id": "2q2ycssQimvk"
      },
      "source": [
        "## Proportion Tests with One Sample\n",
        "\n",
        "* Null Hypothesis: $p = p_0$\n",
        "* Alternative Hypothesis: $p \\neq p_0$\n",
        "\n",
        "test statistics:\n",
        "\n",
        "$z = \\frac{(\\hat{p}-p_0)}{\\sqrt{\\frac{p_0(1-p_0)}{n}}}$\n",
        "\n",
        "[Reference](https://sphweb.bumc.bu.edu/otlt/mph-modules/bs/bs704_hypothesistest-means-proportions/bs704_hypothesistest-means-proportions_print.html)"
      ]
    },
    {
      "cell_type": "code",
      "metadata": {
        "colab": {
          "base_uri": "https://localhost:8080/"
        },
        "id": "EXhSKPLfWyYJ",
        "outputId": "37202f1b-4d51-4e82-f87a-d74ebf110828"
      },
      "source": [
        "import scipy.stats as st\n",
        "from math import sqrt \n",
        "\n",
        "all_traffic = 1000000\n",
        "expected_p = 0.5\n",
        "expected_traffic = all_traffic // 2\n",
        "\n",
        "print(f\"\"\"\n",
        "Given that we have {all_traffic} data points collected in a {1-expected_p} vs {expected_p} split A/A test\\n\n",
        "We expect to have {expected_traffic} data points (ideally) in the treatment group\n",
        "\"\"\")"
      ],
      "execution_count": 1,
      "outputs": [
        {
          "output_type": "stream",
          "text": [
            "\n",
            "Given that we have 1000000 data points collected in a 0.5 vs 0.5 split A/A test\n",
            "\n",
            "We expect to have 500000 data points (ideally) in the treatment group\n",
            "\n"
          ],
          "name": "stdout"
        }
      ]
    },
    {
      "cell_type": "code",
      "metadata": {
        "colab": {
          "base_uri": "https://localhost:8080/"
        },
        "id": "v-FgXdZ-lFG_",
        "outputId": "852159c2-1bef-4c02-eedf-dbdc253376ea"
      },
      "source": [
        "aa_traffic = 502000\n",
        "aa_p = aa_traffic / all_traffic\n",
        "aa_p = aa_p if aa_p >= 0.5 else 1 - aa_p\n",
        "z = (aa_p - expected_p) / sqrt(expected_p * (1 - expected_p) / all_traffic)\n",
        "p_val = (1-st.norm.cdf(z))*2 ## Two-Sided\n",
        "print(f\"\"\"\n",
        "If we finally got {aa_traffic} data points in the treatment groups\n",
        "the z-score is {z:.4f}\n",
        "the (two-sided) p-value is {p_val:.4f}\n",
        "\"\"\")\n",
        "if p_val < 0.05: print(\"Sample Ratio Mismatch!\")\n",
        "else: print(\"Looks fine\")"
      ],
      "execution_count": 2,
      "outputs": [
        {
          "output_type": "stream",
          "text": [
            "\n",
            "If we finally got 502000 data points in the treatment groups\n",
            "the z-score is 4.0000\n",
            "the (two-sided) p-value is 0.0001\n",
            "\n",
            "Sample Ratio Mismatch!\n"
          ],
          "name": "stdout"
        }
      ]
    },
    {
      "cell_type": "code",
      "metadata": {
        "colab": {
          "base_uri": "https://localhost:8080/"
        },
        "id": "jHvCVRaxlBGz",
        "outputId": "8fdbcd63-9e06-438c-dbcd-f0b472720457"
      },
      "source": [
        "aa_traffic = 821432\n",
        "aa_p = aa_traffic / all_traffic\n",
        "aa_p = aa_p if aa_p >= 0.5 else 1 - aa_p\n",
        "z = (aa_p - expected_p) / sqrt(expected_p * (1 - expected_p) / all_traffic)\n",
        "p_val = (1-st.norm.cdf(z))*2 ## Two-Sided\n",
        "print(f\"\"\"\n",
        "If we finally got {aa_traffic} data points in the treatment groups\n",
        "the z-score is {z:.4f}\n",
        "the (two-sided) p-value is {p_val:.4f}\n",
        "\"\"\")\n",
        "if p_val < 0.05: print(\"Sample Ratio Mismatch!\")\n",
        "else: print(\"Looks fine\")"
      ],
      "execution_count": 3,
      "outputs": [
        {
          "output_type": "stream",
          "text": [
            "\n",
            "If we finally got 821432 data points in the treatment groups\n",
            "the z-score is 642.8640\n",
            "the (two-sided) p-value is 0.0000\n",
            "\n",
            "Sample Ratio Mismatch!\n"
          ],
          "name": "stdout"
        }
      ]
    },
    {
      "cell_type": "markdown",
      "metadata": {
        "id": "rr_twHe4tFQW"
      },
      "source": [
        "# 2. Inspecting Expected Type-1 Error \n",
        "\n",
        "Given significance level = 0.05, the type-1 error rate should be 5% if we repeat the experiments several times."
      ]
    },
    {
      "cell_type": "code",
      "metadata": {
        "id": "L_CYBtfXtl66"
      },
      "source": [
        "!pip install --upgrade --quiet plotnine"
      ],
      "execution_count": 4,
      "outputs": []
    },
    {
      "cell_type": "code",
      "metadata": {
        "id": "l4eeXJEUnWlK"
      },
      "source": [
        "# Function: Conduct one A/B Test (for proportion testing)\n",
        "import numpy as np\n",
        "import pandas as pd\n",
        "from scipy import stats\n",
        "from plotnine import *\n",
        "from plotnine.stats import *\n",
        "from mizani.formatters import percent_format\n",
        "\n",
        "def run_ab_test(base_prob=0.4, absolute_effect_size=0.0, sample_size_per_group=40000):\n",
        "  \"\"\" return p_value \"\"\"\n",
        "  trials_1 = np.random.binomial(n=sample_size_per_group, p=base_prob)\n",
        "  trials_2 = np.random.binomial(n=sample_size_per_group, p=base_prob+absolute_effect_size)\n",
        "  contingency_table = np.array([[trials_1, sample_size_per_group-trials_1], [trials_2, sample_size_per_group-trials_2]])\n",
        "  p_value = stats.chi2_contingency(contingency_table)[1]\n",
        "  return p_value"
      ],
      "execution_count": 5,
      "outputs": []
    },
    {
      "cell_type": "code",
      "metadata": {
        "id": "eKk1MYO3n-kc"
      },
      "source": [
        "np.random.seed(42)\n",
        "\n",
        "n_ab_testing = 500\n",
        "aa_test_results = [run_ab_test() for _ in range(n_ab_testing)]\n",
        "ab_test_results = [run_ab_test(absolute_effect_size=0.01) for _ in range(n_ab_testing)]"
      ],
      "execution_count": 6,
      "outputs": []
    },
    {
      "cell_type": "code",
      "metadata": {
        "colab": {
          "base_uri": "https://localhost:8080/",
          "height": 484
        },
        "id": "ReoSSvINrO9P",
        "outputId": "cc5a86a7-9a21-4a4b-98f3-79cb76af481b"
      },
      "source": [
        "df = pd.DataFrame({\"Experiment\": [\"AA Test\" for _ in range(n_ab_testing)] + [\"AB Test\" for _ in range(n_ab_testing)],\n",
        "                   \"P-value\": aa_test_results + ab_test_results})\n",
        "(\n",
        "    ggplot(data=df, mapping=aes(x=\"P-value\", y=after_stat('width*density')))\n",
        "    + geom_histogram(binwidth=0.05, alpha=0.8, colour=\"white\")\n",
        "    + facet_wrap(facets = \"~ Experiment\", nrow=2)\n",
        "    + scale_y_continuous(labels=percent_format())\n",
        "    + geom_hline(yintercept=0.05, colour=\"red\", linetype=\"dashed\")\n",
        "    + ylab(\"Proportion\")\n",
        ")"
      ],
      "execution_count": 7,
      "outputs": [
        {
          "output_type": "display_data",
          "data": {
            "image/png": "[encoded data removed]",
            "text/plain": [
              "<Figure size 640x480 with 2 Axes>"
            ]
          },
          "metadata": {
            "tags": []
          }
        },
        {
          "output_type": "execute_result",
          "data": {
            "text/plain": [
              "<ggplot: (8726319152245)>"
            ]
          },
          "metadata": {
            "tags": []
          },
          "execution_count": 7
        }
      ]
    }
  ]
}