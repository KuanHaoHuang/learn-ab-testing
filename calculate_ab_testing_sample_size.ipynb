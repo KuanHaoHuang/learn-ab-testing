{
  "nbformat": 4,
  "nbformat_minor": 0,
  "metadata": {
    "colab": {
      "provenance": []
    },
    "kernelspec": {
      "name": "python3",
      "display_name": "Python 3"
    },
    "language_info": {
      "name": "python"
    }
  },
  "cells": [
    {
      "cell_type": "code",
      "execution_count": 1,
      "metadata": {
        "id": "Lyjhu1LSewam"
      },
      "outputs": [],
      "source": [
        "import numpy as np\n",
        "import statsmodels.api as sm\n",
        "from scipy import stats"
      ]
    },
    {
      "cell_type": "markdown",
      "source": [
        "# Python 教學：計算 A/B Test 所需樣本數\n",
        "\n",
        "[部落格教學文章：A/B Test 樣本數究竟該怎麼算？](https://haosquare.com/calculate-ab-testing-sample-size/)\n",
        "\n",
        "[好豪筆記](https://haosquare.com/)"
      ],
      "metadata": {
        "id": "sKd9z9wr1Qym"
      }
    },
    {
      "cell_type": "markdown",
      "source": [
        "Z 分數查表方法\n",
        "\n",
        "用於樣本數公式簡化：\n",
        "\n",
        "$n=\\frac{(Z_{\\alpha/2}\\sqrt{2p_1 (1-p_1)}+Z_{\\beta}\\sqrt{p_1(1-p_1)+p_2(1-p_2)})^2}{|p_2-p_1|^2} \\\\\n",
        "\\\\\n",
        "= \\frac{(1.96*\\sqrt{2}*\\sqrt{variance} + 0.84*\\sqrt{2}*\\sqrt{variance} )^2}{\\delta^2}\\\\\n",
        "\\\\\n",
        "= \\frac{(2.8*1.414*\\sqrt{variance})^2}{\\delta^2}\\\\\n",
        "\\\\\n",
        "= \\frac{3.96^2 * \\sigma^2}{\\delta^2}$\n"
      ],
      "metadata": {
        "id": "w6SLa1oHR-WW"
      }
    },
    {
      "cell_type": "code",
      "source": [
        "alpha = 0.05\n",
        "beta = 0.2\n",
        "print(stats.norm.ppf(alpha/2))\n",
        "print(stats.norm.ppf(beta))"
      ],
      "metadata": {
        "colab": {
          "base_uri": "https://localhost:8080/"
        },
        "id": "kY50Ofr5R9Gx",
        "outputId": "1e7abc35-3d30-4761-cdb0-0ea880dd3295"
      },
      "execution_count": 2,
      "outputs": [
        {
          "output_type": "stream",
          "name": "stdout",
          "text": [
            "-1.9599639845400545\n",
            "-0.8416212335729142\n"
          ]
        }
      ]
    },
    {
      "cell_type": "markdown",
      "source": [
        "# 樣本數計算範例問題\n",
        "\n",
        "已知 APP 的某按鈕點擊率為 20%\n",
        "\n",
        "A/B Test：新按鈕是否能增加點擊率 5%\n",
        "\n",
        "請問要符合 alpha = 0.05、檢定力 = 80% 的話，所需樣本數為何？\n",
        "\n",
        "---\n",
        "\n",
        "試圖還原 [Evan Miller 樣本數計算機](https://www.evanmiller.org/ab-testing/sample-size.html) 首頁的預設值算出的結果，如下圖：\n",
        "\n",
        "![](https://imgur.com/6hgNNl1.png)"
      ],
      "metadata": {
        "id": "aEILoE1ULtAR"
      }
    },
    {
      "cell_type": "markdown",
      "source": [
        "方法 1：直接計算公式\n",
        "\n",
        "$n = 16 * \\frac{\\sigma^2}{\\delta^2}$"
      ],
      "metadata": {
        "id": "8CJV1wamMlqN"
      }
    },
    {
      "cell_type": "code",
      "source": [
        "delta = 0.05\n",
        "sigma = np.sqrt(0.2 * (1-0.2))\n",
        "n = 16 * sigma**2 / delta ** 2\n",
        "n"
      ],
      "metadata": {
        "colab": {
          "base_uri": "https://localhost:8080/"
        },
        "id": "-FXlx0qxMaxe",
        "outputId": "a28f7f67-4047-431d-94a4-99f34c624cd1"
      },
      "execution_count": 3,
      "outputs": [
        {
          "output_type": "execute_result",
          "data": {
            "text/plain": [
              "1024.0"
            ]
          },
          "metadata": {},
          "execution_count": 3
        }
      ]
    },
    {
      "cell_type": "markdown",
      "source": [
        "方法 2：[samplesize_proportions_2indep_onetail()](https://www.statsmodels.org/stable/generated/statsmodels.stats.proportion.samplesize_proportions_2indep_onetail.html)"
      ],
      "metadata": {
        "id": "i0BFeGpb0Avo"
      }
    },
    {
      "cell_type": "code",
      "source": [
        "sm.stats.samplesize_proportions_2indep_onetail(\n",
        "    diff = 0.05,\n",
        "    prop2 = 0.2,\n",
        "    power = 0.8,\n",
        "    alpha=0.05\n",
        ")"
      ],
      "metadata": {
        "colab": {
          "base_uri": "https://localhost:8080/"
        },
        "id": "30b2ygRYDLZ9",
        "outputId": "9f64e2f9-57aa-43fc-ffe2-1b0f71278183"
      },
      "execution_count": 4,
      "outputs": [
        {
          "output_type": "execute_result",
          "data": {
            "text/plain": [
              "1093.7390457661652"
            ]
          },
          "metadata": {},
          "execution_count": 4
        }
      ]
    },
    {
      "cell_type": "markdown",
      "source": [
        "方法 3：使用效果量（Effect Size）與 [tt_ind_solve_power()](https://www.statsmodels.org/stable/generated/statsmodels.stats.power.tt_ind_solve_power.html)\n",
        "\n",
        "注意：[proportion_effectsize()](https://www.statsmodels.org/stable/generated/statsmodels.stats.proportion.proportion_effectsize.html) 計算的是 [Cohen's h](https://en.wikipedia.org/wiki/Cohen%27s_h)"
      ],
      "metadata": {
        "id": "5-pBO7PZ0Kfl"
      }
    },
    {
      "cell_type": "code",
      "source": [
        "es = sm.stats.proportion_effectsize(0.2, 0.25)\n",
        "n = sm.stats.tt_ind_solve_power(effect_size=es, power=0.8, alpha=0.05)\n",
        "print(n)"
      ],
      "metadata": {
        "colab": {
          "base_uri": "https://localhost:8080/"
        },
        "id": "_x6R-MX6MHKv",
        "outputId": "1b3cfd82-fb79-4b84-899c-5b589ada6670"
      },
      "execution_count": 5,
      "outputs": [
        {
          "output_type": "stream",
          "name": "stdout",
          "text": [
            "1092.857352102658\n"
          ]
        },
        {
          "output_type": "stream",
          "name": "stderr",
          "text": [
            "/usr/local/lib/python3.10/dist-packages/scipy/stats/_continuous_distns.py:6832: RuntimeWarning: invalid value encountered in _nct_sf\n",
            "  return np.clip(_boost._nct_sf(x, df, nc), 0, 1)\n",
            "/usr/local/lib/python3.10/dist-packages/scipy/stats/_continuous_distns.py:6826: RuntimeWarning: invalid value encountered in _nct_cdf\n",
            "  return np.clip(_boost._nct_cdf(x, df, nc), 0, 1)\n"
          ]
        }
      ]
    },
    {
      "cell_type": "markdown",
      "source": [
        "# 驗證樣本數公式正確性\n",
        "\n",
        "$n = 16 * \\frac{\\sigma^2}{\\delta^2}$"
      ],
      "metadata": {
        "id": "eMVYvBme1K6y"
      }
    },
    {
      "cell_type": "code",
      "source": [
        "def simulate(mu, sigma, diff):\n",
        "    print(f\"required sample size = {n}\\n\")\n",
        "    for n_chg in [-300, -200, -100, 0, 100, 200, 300]:\n",
        "        sig_cnt = 0\n",
        "        test_cnt = 2000\n",
        "        for _ in range(test_cnt):\n",
        "            test = stats.ttest_ind(\n",
        "                np.random.normal(mu, sigma, n+n_chg),\n",
        "                np.random.normal(mu+diff, sigma, n+n_chg)\n",
        "                )\n",
        "            if test.pvalue <= 0.05: sig_cnt += 1\n",
        "        print(f\"n = {n+n_chg}, proportion of statistical significance {round(sig_cnt/test_cnt*100, 1)}%\\n\")"
      ],
      "metadata": {
        "id": "mCTEZ5-N3qqB"
      },
      "execution_count": 6,
      "outputs": []
    },
    {
      "cell_type": "code",
      "source": [
        "#@title 連續型資料\n",
        "np.random.seed(9527)\n",
        "\n",
        "mu, sigma = 165, 10 # mean and standard deviation\n",
        "diff = 2 # MDE\n",
        "n = int(16*sigma**2/diff**2)\n",
        "\n",
        "simulate(mu, sigma, diff)"
      ],
      "metadata": {
        "colab": {
          "base_uri": "https://localhost:8080/"
        },
        "id": "wQMySQ7advS6",
        "outputId": "9d5d4073-948d-4411-e8c2-addf91e4f70f"
      },
      "execution_count": 7,
      "outputs": [
        {
          "output_type": "stream",
          "name": "stdout",
          "text": [
            "required sample size = 400\n",
            "\n",
            "n = 100, proportion of statistical significance 26.7%\n",
            "\n",
            "n = 200, proportion of statistical significance 53.2%\n",
            "\n",
            "n = 300, proportion of statistical significance 68.6%\n",
            "\n",
            "n = 400, proportion of statistical significance 81.0%\n",
            "\n",
            "n = 500, proportion of statistical significance 88.8%\n",
            "\n",
            "n = 600, proportion of statistical significance 93.7%\n",
            "\n",
            "n = 700, proportion of statistical significance 96.5%\n",
            "\n"
          ]
        }
      ]
    },
    {
      "cell_type": "code",
      "source": [
        "#@title 比例資料\n",
        "np.random.seed(9527)\n",
        "\n",
        "mu = 0.2\n",
        "sigma = np.sqrt(mu*(1-mu))\n",
        "diff = 0.05\n",
        "n = int(16*sigma**2/diff**2)\n",
        "\n",
        "simulate(mu, sigma, diff)"
      ],
      "metadata": {
        "colab": {
          "base_uri": "https://localhost:8080/"
        },
        "id": "7FRyRUgQK5mE",
        "outputId": "299da283-4daa-49f6-9644-071722a5fe28"
      },
      "execution_count": 8,
      "outputs": [
        {
          "output_type": "stream",
          "name": "stdout",
          "text": [
            "required sample size = 1024\n",
            "\n",
            "n = 724, proportion of statistical significance 66.3%\n",
            "\n",
            "n = 824, proportion of statistical significance 72.7%\n",
            "\n",
            "n = 924, proportion of statistical significance 76.2%\n",
            "\n",
            "n = 1024, proportion of statistical significance 80.8%\n",
            "\n",
            "n = 1124, proportion of statistical significance 84.2%\n",
            "\n",
            "n = 1224, proportion of statistical significance 87.2%\n",
            "\n",
            "n = 1324, proportion of statistical significance 90.2%\n",
            "\n"
          ]
        }
      ]
    }
  ]
}